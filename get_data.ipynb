{
  "nbformat": 4,
  "nbformat_minor": 0,
  "metadata": {
    "colab": {
      "name": "get_data.ipynb",
      "provenance": [],
      "collapsed_sections": []
    },
    "kernelspec": {
      "name": "python3",
      "display_name": "Python 3"
    }
  },
  "cells": [
    {
      "cell_type": "code",
      "metadata": {
        "id": "OVl34OWQh_Ce",
        "colab_type": "code",
        "outputId": "a8f512f6-d86c-4129-8a91-eaeff3a39ee1",
        "colab": {
          "base_uri": "https://localhost:8080/",
          "height": 190
        }
      },
      "source": [
        "!pip install newsapi-python"
      ],
      "execution_count": 0,
      "outputs": [
        {
          "output_type": "stream",
          "text": [
            "Collecting newsapi-python\n",
            "  Downloading https://files.pythonhosted.org/packages/de/9e/9050199ac7cbc755d1c49577fdaa5517901124b574264b3602a8b8028440/newsapi_python-0.2.6-py2.py3-none-any.whl\n",
            "Requirement already satisfied: requests<3.0.0 in /usr/local/lib/python3.6/dist-packages (from newsapi-python) (2.21.0)\n",
            "Requirement already satisfied: chardet<3.1.0,>=3.0.2 in /usr/local/lib/python3.6/dist-packages (from requests<3.0.0->newsapi-python) (3.0.4)\n",
            "Requirement already satisfied: certifi>=2017.4.17 in /usr/local/lib/python3.6/dist-packages (from requests<3.0.0->newsapi-python) (2019.11.28)\n",
            "Requirement already satisfied: urllib3<1.25,>=1.21.1 in /usr/local/lib/python3.6/dist-packages (from requests<3.0.0->newsapi-python) (1.24.3)\n",
            "Requirement already satisfied: idna<2.9,>=2.5 in /usr/local/lib/python3.6/dist-packages (from requests<3.0.0->newsapi-python) (2.8)\n",
            "Installing collected packages: newsapi-python\n",
            "Successfully installed newsapi-python-0.2.6\n"
          ],
          "name": "stdout"
        }
      ]
    },
    {
      "cell_type": "code",
      "metadata": {
        "id": "bFEX4JqwiiS8",
        "colab_type": "code",
        "colab": {}
      },
      "source": [
        "import pandas as pd\n",
        "import numpy as np\n",
        "from datetime import datetime,timedelta\n",
        "from datetime import date\n",
        "from newsapi import NewsApiClient\n",
        "newsapi = NewsApiClient(api_key='') #add your api key here"
      ],
      "execution_count": 0,
      "outputs": []
    },
    {
      "cell_type": "code",
      "metadata": {
        "id": "QreTbvrGrtof",
        "colab_type": "code",
        "colab": {}
      },
      "source": [
        "def get_sources(country):\n",
        "    sources = newsapi.get_sources(country=country)\n",
        "    sources = [x['id'] for x in sources['sources']]\n",
        "    return sources"
      ],
      "execution_count": 0,
      "outputs": []
    },
    {
      "cell_type": "code",
      "metadata": {
        "id": "2RsobMBurz5p",
        "colab_type": "code",
        "outputId": "53e1bf75-e4a8-40bf-a8f2-1d4e4cf3f1ae",
        "colab": {
          "base_uri": "https://localhost:8080/",
          "height": 54
        }
      },
      "source": [
        "sources = get_sources('us')\n",
        "print(sources)"
      ],
      "execution_count": 0,
      "outputs": [
        {
          "output_type": "stream",
          "text": [
            "['abc-news', 'al-jazeera-english', 'ars-technica', 'associated-press', 'axios', 'bleacher-report', 'bloomberg', 'breitbart-news', 'business-insider', 'buzzfeed', 'cbs-news', 'cnbc', 'cnn', 'cnn-es', 'crypto-coins-news', 'engadget', 'entertainment-weekly', 'espn', 'espn-cric-info', 'fortune', 'fox-news', 'fox-sports', 'google-news', 'hacker-news', 'ign', 'mashable', 'medical-news-today', 'msnbc', 'mtv-news', 'national-geographic', 'national-review', 'nbc-news', 'new-scientist', 'newsweek', 'new-york-magazine', 'next-big-future', 'nfl-news', 'nhl-news', 'politico', 'polygon', 'recode', 'reddit-r-all', 'reuters', 'techcrunch', 'techradar', 'the-american-conservative', 'the-hill', 'the-huffington-post', 'the-next-web', 'the-verge', 'the-wall-street-journal', 'the-washington-post', 'the-washington-times', 'time', 'usa-today', 'vice-news', 'wired']\n"
          ],
          "name": "stdout"
        }
      ]
    },
    {
      "cell_type": "code",
      "metadata": {
        "id": "BYz1E-Q-i4K1",
        "colab_type": "code",
        "colab": {}
      },
      "source": [
        "def create_dataframe_last_30d(query, sources):\n",
        "    fulldata = pd.DataFrame()\n",
        "    for s in sources:\n",
        "        #print(s)\n",
        "        json_data = newsapi.get_everything(q=query,\n",
        "                                          language='en',\n",
        "                                            from_param=str(date.today() -timedelta(days=29)),\n",
        "                                          to= str(date.today()),\n",
        "                                            sources = s,\n",
        "                                          page_size=100,\n",
        "                                          page = 1,sort_by='relevancy'\n",
        "                                          )\n",
        "        if len(json_data['articles'])>0:\n",
        "            data = pd.DataFrame(json_data['articles'])\n",
        "            fulldata=pd.concat([fulldata,data])\n",
        "    if len(fulldata)>0:\n",
        "        fulldata['source'] = fulldata['source'].apply(lambda x : x['name'])\n",
        "        fulldata['publishedAt'] = pd.to_datetime(fulldata['publishedAt'])\n",
        "        fulldata = fulldata.drop_duplicates(subset='url').sort_values(by='publishedAt',ascending=False).reset_index()\n",
        "    return fulldata"
      ],
      "execution_count": 0,
      "outputs": []
    },
    {
      "cell_type": "code",
      "metadata": {
        "id": "0Z17R1lhlWKE",
        "colab_type": "code",
        "outputId": "aea5c968-5526-46f1-f2e9-c0f9654a2515",
        "colab": {
          "base_uri": "https://localhost:8080/",
          "height": 34
        }
      },
      "source": [
        "news_articles = create_dataframe_last_30d('Coronavirus', sources)\n",
        "news_articles.shape"
      ],
      "execution_count": 0,
      "outputs": [
        {
          "output_type": "execute_result",
          "data": {
            "text/plain": [
              "(4532, 9)"
            ]
          },
          "metadata": {
            "tags": []
          },
          "execution_count": 11
        }
      ]
    },
    {
      "cell_type": "code",
      "metadata": {
        "id": "zDqp5MMMlm7l",
        "colab_type": "code",
        "outputId": "427fabb1-fd81-453e-83a1-3fb0a313e260",
        "colab": {
          "base_uri": "https://localhost:8080/",
          "height": 581
        }
      },
      "source": [
        "news_articles.head()"
      ],
      "execution_count": 0,
      "outputs": [
        {
          "output_type": "execute_result",
          "data": {
            "text/html": [
              "<div>\n",
              "<style scoped>\n",
              "    .dataframe tbody tr th:only-of-type {\n",
              "        vertical-align: middle;\n",
              "    }\n",
              "\n",
              "    .dataframe tbody tr th {\n",
              "        vertical-align: top;\n",
              "    }\n",
              "\n",
              "    .dataframe thead th {\n",
              "        text-align: right;\n",
              "    }\n",
              "</style>\n",
              "<table border=\"1\" class=\"dataframe\">\n",
              "  <thead>\n",
              "    <tr style=\"text-align: right;\">\n",
              "      <th></th>\n",
              "      <th>index</th>\n",
              "      <th>source</th>\n",
              "      <th>author</th>\n",
              "      <th>title</th>\n",
              "      <th>description</th>\n",
              "      <th>url</th>\n",
              "      <th>urlToImage</th>\n",
              "      <th>publishedAt</th>\n",
              "      <th>content</th>\n",
              "    </tr>\n",
              "  </thead>\n",
              "  <tbody>\n",
              "    <tr>\n",
              "      <th>0</th>\n",
              "      <td>30</td>\n",
              "      <td>CNBC</td>\n",
              "      <td>Holly Ellyatt</td>\n",
              "      <td>European markets set to open lower after US wa...</td>\n",
              "      <td>European markets are set to open lower Wednesd...</td>\n",
              "      <td>https://www.cnbc.com/2020/04/01/european-marke...</td>\n",
              "      <td>https://image.cnbcfm.com/api/v1/image/10646841...</td>\n",
              "      <td>2020-04-01 04:46:06+00:00</td>\n",
              "      <td>European markets are set to open lower Wednesd...</td>\n",
              "    </tr>\n",
              "    <tr>\n",
              "      <th>1</th>\n",
              "      <td>35</td>\n",
              "      <td>New York Magazine</td>\n",
              "      <td>Chas Danner</td>\n",
              "      <td>Coronavirus in New York: Latest Updates</td>\n",
              "      <td>The USNS Comfort hospital ship is now docked i...</td>\n",
              "      <td>https://nymag.com/intelligencer/2020/04/new-yo...</td>\n",
              "      <td>https://pixel.nymag.com/imgs/daily/intelligenc...</td>\n",
              "      <td>2020-04-01 04:45:00+00:00</td>\n",
              "      <td>As of Tuesday night, there have been at least ...</td>\n",
              "    </tr>\n",
              "    <tr>\n",
              "      <th>2</th>\n",
              "      <td>37</td>\n",
              "      <td>Google News</td>\n",
              "      <td>info@hypebeast.com (HYPEBEAST), HYPEBEAST</td>\n",
              "      <td>Humble Bundle Offers Over $1000 USD Worth of G...</td>\n",
              "      <td>Humble Bundle is joining the fight against the...</td>\n",
              "      <td>http://feedproxy.google.com/~r/hypebeast/feed/...</td>\n",
              "      <td>None</td>\n",
              "      <td>2020-04-01 03:54:46+00:00</td>\n",
              "      <td>None</td>\n",
              "    </tr>\n",
              "    <tr>\n",
              "      <th>3</th>\n",
              "      <td>62</td>\n",
              "      <td>USA Today</td>\n",
              "      <td>USA TODAY, Charles Trepany, USA TODAY</td>\n",
              "      <td>Coronavirus: Fashion companies from Dior to No...</td>\n",
              "      <td>Several of the world's biggest fashion brands ...</td>\n",
              "      <td>https://www.usatoday.com/story/entertainment/2...</td>\n",
              "      <td>https://www.gannett-cdn.com/presto/2020/03/27/...</td>\n",
              "      <td>2020-04-01 03:25:18+00:00</td>\n",
              "      <td>Robert De Niro, Ben Stiller and La La Anthony ...</td>\n",
              "    </tr>\n",
              "    <tr>\n",
              "      <th>4</th>\n",
              "      <td>78</td>\n",
              "      <td>ESPN Cric Info</td>\n",
              "      <td>Daniel Brettig</td>\n",
              "      <td>Newlands fallout has improved behaviour in Aus...</td>\n",
              "      <td>Australia's Test captain says the incidents in...</td>\n",
              "      <td>https://www.espncricinfo.com/story/_/id/289793...</td>\n",
              "      <td>https://a4.espncdn.com/combiner/i?img=%2Fi%2Fc...</td>\n",
              "      <td>2020-04-01 03:20:55+00:00</td>\n",
              "      <td>Australia Test captain Tim Paine believes the ...</td>\n",
              "    </tr>\n",
              "  </tbody>\n",
              "</table>\n",
              "</div>"
            ],
            "text/plain": [
              "   index  ...                                            content\n",
              "0     30  ...  European markets are set to open lower Wednesd...\n",
              "1     35  ...  As of Tuesday night, there have been at least ...\n",
              "2     37  ...                                               None\n",
              "3     62  ...  Robert De Niro, Ben Stiller and La La Anthony ...\n",
              "4     78  ...  Australia Test captain Tim Paine believes the ...\n",
              "\n",
              "[5 rows x 9 columns]"
            ]
          },
          "metadata": {
            "tags": []
          },
          "execution_count": 12
        }
      ]
    },
    {
      "cell_type": "code",
      "metadata": {
        "id": "f4ccJT44rTEd",
        "colab_type": "code",
        "colab": {}
      },
      "source": [
        "news_articles.to_csv('/content/drive/My Drive/Colab Notebooks/Covid 19 Articles/new_articles.csv', \n",
        "                     index=False, header=True)"
      ],
      "execution_count": 0,
      "outputs": []
    }
  ]
}